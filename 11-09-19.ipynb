{
 "cells": [
  {
   "cell_type": "code",
   "execution_count": 13,
   "metadata": {},
   "outputs": [
    {
     "name": "stdout",
     "output_type": "stream",
     "text": [
      "15482316414\n",
      "1\n",
      "5\n",
      "4\n",
      "8\n",
      "2\n",
      "3\n",
      "1\n",
      "6\n",
      "4\n",
      "1\n",
      "4\n"
     ]
    }
   ],
   "source": [
    "n=input()\n",
    "for i in n:\n",
    "    print(i)\n"
   ]
  },
  {
   "cell_type": "code",
   "execution_count": 16,
   "metadata": {},
   "outputs": [
    {
     "name": "stdout",
     "output_type": "stream",
     "text": [
      "5549846589\n",
      "not a special number\n"
     ]
    }
   ],
   "source": [
    "n=input()\n",
    "s=0\n",
    "p=1\n",
    "for i in n:\n",
    "    s=s+int(i)\n",
    "    p=p*int(i)\n",
    "res=s+p\n",
    "if res==int(n):\n",
    "    print(\"is a special number\")\n",
    "else:\n",
    "    print(\"not a special number\")\n"
   ]
  },
  {
   "cell_type": "code",
   "execution_count": 38,
   "metadata": {},
   "outputs": [
    {
     "name": "stdout",
     "output_type": "stream",
     "text": [
      "enter lb1\n",
      "enter ub100\n",
      "6\n",
      "28\n"
     ]
    }
   ],
   "source": [
    "lb=int(input(\"enter lb\"))\n",
    "ub=int(input(\"enter ub\"))\n",
    "# n=int(input())\n",
    "s=0\n",
    "def findFactor(n,s):\n",
    "    for i in range(1,n):\n",
    "        if n%i==0:\n",
    "            s=s+i\n",
    "    if s==n:\n",
    "        print(n)\n",
    "for j in range(lb,ub+1):\n",
    "    findFactor(j,s)\n",
    "        \n",
    "        \n",
    "        \n",
    "        \n",
    "# for k in range(lb,ub+1):\n",
    "#     findFactor(k,s)\n",
    "    "
   ]
  },
  {
   "cell_type": "code",
   "execution_count": null,
   "metadata": {},
   "outputs": [],
   "source": []
  },
  {
   "cell_type": "code",
   "execution_count": null,
   "metadata": {},
   "outputs": [],
   "source": []
  }
 ],
 "metadata": {
  "kernelspec": {
   "display_name": "Python 3",
   "language": "python",
   "name": "python3"
  },
  "language_info": {
   "codemirror_mode": {
    "name": "ipython",
    "version": 3
   },
   "file_extension": ".py",
   "mimetype": "text/x-python",
   "name": "python",
   "nbconvert_exporter": "python",
   "pygments_lexer": "ipython3",
   "version": "3.7.3"
  }
 },
 "nbformat": 4,
 "nbformat_minor": 2
}
