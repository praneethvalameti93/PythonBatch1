{
 "cells": [
  {
   "cell_type": "code",
   "execution_count": 2,
   "metadata": {},
   "outputs": [
    {
     "name": "stdout",
     "output_type": "stream",
     "text": [
      "LLLUUUURD\n",
      "-2 3\n"
     ]
    }
   ],
   "source": [
    "c=input()\n",
    "x=0\n",
    "y=0\n",
    "for i in c:\n",
    "    if i=='L':\n",
    "        x=x-1\n",
    "    elif i=='R':\n",
    "        x=x+1\n",
    "    elif i=='U':\n",
    "        y=y+1\n",
    "    elif i=='D':\n",
    "        y=y-1\n",
    "print(x,y)\n",
    "        \n",
    "    "
   ]
  },
  {
   "cell_type": "code",
   "execution_count": 32,
   "metadata": {},
   "outputs": [],
   "source": [
    "filePath=\"./files/sample.txt\"\n",
    "with open(filePath,'a+') as f :\n",
    "    f.write(\"this is my 4th line\\n\")"
   ]
  },
  {
   "cell_type": "code",
   "execution_count": 38,
   "metadata": {},
   "outputs": [
    {
     "name": "stdout",
     "output_type": "stream",
     "text": [
      "this is my 2nd line\n",
      "\n"
     ]
    }
   ],
   "source": [
    "filePath=\"./files/sample.txt\"\n",
    "with open(filePath,'r') as f:\n",
    "    data=f.readlines()\n",
    "    l=list(data)\n",
    "    print(l[1])"
   ]
  },
  {
   "cell_type": "code",
   "execution_count": 44,
   "metadata": {},
   "outputs": [
    {
     "name": "stdout",
     "output_type": "stream",
     "text": [
      "['venki', 'chandra', 'gopi', 'kiran']\n"
     ]
    }
   ],
   "source": [
    "l=[\"venki\",\"chandra\",\"gopi\",\"kiran\",\"venki\",\"gopi\"]\n",
    "t=[]\n",
    "for i in l:\n",
    "    if i not in t:\n",
    "        t.append(i)\n",
    "print(t)\n"
   ]
  },
  {
   "cell_type": "code",
   "execution_count": 50,
   "metadata": {},
   "outputs": [
    {
     "name": "stdout",
     "output_type": "stream",
     "text": [
      "1 10 2\n",
      "5\n"
     ]
    }
   ],
   "source": [
    "n=input()\n",
    "n=n.split()\n",
    "lb=int(n[0])\n",
    "ub=int(n[1])\n",
    "d=int(n[2])\n",
    "c=0\n",
    "for i in range(lb,ub+1):\n",
    "    if i%d==0:\n",
    "        c=c+1\n",
    "print(c)"
   ]
  },
  {
   "cell_type": "code",
   "execution_count": 10,
   "metadata": {},
   "outputs": [
    {
     "name": "stdout",
     "output_type": "stream",
     "text": [
      "7\n",
      "7 \n"
     ]
    }
   ],
   "source": [
    "d={\"1\":2,\"2\":5,\"3\":5,\"4\":4,\"5\":5,\"6\":6,\"7\":3,\"8\":7,\"9\":6,\"0\":6}\n",
    "n=input()\n",
    "c=0\n",
    "for i in n:\n",
    "    c=c+d[i]\n",
    "if c%2==0:\n",
    "    print(\"1\"*(c//2))\n",
    "else:\n",
    "    t=c//2\n",
    "    print(\"7\",\"1\"*(t-1))\n",
    "\n"
   ]
  },
  {
   "cell_type": "code",
   "execution_count": 5,
   "metadata": {},
   "outputs": [
    {
     "name": "stdout",
     "output_type": "stream",
     "text": [
      "\n"
     ]
    }
   ],
   "source": [
    "filePath=\"./files/sample.txt\"\n",
    "f= open(filePath,'a+')\n",
    "# f.write(\"this is my 4th line\\n\")\n",
    "a=f.read()\n",
    "print(a)"
   ]
  },
  {
   "cell_type": "code",
   "execution_count": 12,
   "metadata": {},
   "outputs": [
    {
     "name": "stdout",
     "output_type": "stream",
     "text": [
      "/nthis is my 1st linethis is my 1nd line\n",
      "\n",
      "this is my 2nd line\n",
      "this is my 3rd line\n",
      "this is my 4th line\n",
      "this is my 4th line\n",
      "this is my 4th line\n",
      "\n"
     ]
    }
   ],
   "source": [
    "filePath=\"./files/sample.txt\"\n",
    "with open(filePath,'r') as f:\n",
    "            a="
   ]
  },
  {
   "cell_type": "code",
   "execution_count": 27,
   "metadata": {},
   "outputs": [
    {
     "name": "stdout",
     "output_type": "stream",
     "text": [
      "/nthis is my 1st linethis is my 1nd line\n",
      "this is my 2nd line\n",
      "this is my 3rd line\n",
      "this is my 4th line\n",
      "this is my 4th line\n",
      "this is my 4th line\n",
      "\n",
      "\n"
     ]
    }
   ],
   "source": [
    "filePath=\"./files/sample.txt\"\n",
    "with open(filePath,'r') as f:\n",
    "    lines=f.read()\n",
    "    print(lines)\n",
    "    line=f.readline()\n",
    "    print(line)"
   ]
  },
  {
   "cell_type": "code",
   "execution_count": 32,
   "metadata": {},
   "outputs": [
    {
     "name": "stdout",
     "output_type": "stream",
     "text": [
      "/nthis is my 1st linethis is my 1nd line\n",
      "this is my 2nd line\n",
      "this is my 3rd line\n",
      "this is my 4th line\n",
      "this is my 4th line\n",
      "this is my 4th line\n",
      "\n",
      "[]\n"
     ]
    }
   ],
   "source": [
    "filePath=\"./files/sample.txt\"\n",
    "f=open(filePath,'r')\n",
    "lines=f.read()\n",
    "print(lines)\n",
    "line=f.readlines()\n",
    "print(line)\n"
   ]
  },
  {
   "cell_type": "code",
   "execution_count": 33,
   "metadata": {},
   "outputs": [
    {
     "data": {
      "text/plain": [
       "5"
      ]
     },
     "execution_count": 33,
     "metadata": {},
     "output_type": "execute_result"
    }
   ],
   "source": [
    "filePath=\"./files/test.txt\"\n",
    "f=open(filePath,'w')\n",
    "f.write(\"praneeth\")\n",
    "filePath=\"./files/test1.txt\"\n",
    "f=open(filePath,'w')\n",
    "f.write(\"kumar\")"
   ]
  },
  {
   "cell_type": "code",
   "execution_count": 34,
   "metadata": {},
   "outputs": [],
   "source": [
    "filePath=\"./files/test2.txt\"\n",
    "with open(filePath,'w') as f:\n",
    "    f.write(\"praneeth\")\n",
    "filePath=\"./files/test3.txt\"\n",
    "with open(filePath,'w') as f:\n",
    "    f.write(\"kumar\")"
   ]
  },
  {
   "cell_type": "code",
   "execution_count": 38,
   "metadata": {},
   "outputs": [
    {
     "name": "stdout",
     "output_type": "stream",
     "text": [
      "test case1\n",
      "12 2 24 2\n",
      "12 0\n"
     ]
    }
   ],
   "source": [
    "t=int(input(\"test case\"))\n",
    "for i in range(t):\n",
    "    n=input().split()\n",
    "    sh=int(n[0])\n",
    "    sm=int(n[1])\n",
    "    eh=int(n[2])\n",
    "    em=int(n[3])\n",
    "    if ((eh and sh<=24)and(em and sm<=60)):\n",
    "        if sh==eh:\n",
    "            a=eh-sh\n",
    "            b=abs(em-sm)\n",
    "            print(a,b)\n",
    "        elif(sm==em):\n",
    "            a=eh-sh\n",
    "            b=abs(em-sm)\n",
    "            print(a,b)\n",
    "        else:\n",
    "            a=(eh-1)-sh\n",
    "            b=abs(em-sm)\n",
    "            print(a,b)\n",
    "    else:\n",
    "        print(\"invalid input\")"
   ]
  },
  {
   "cell_type": "code",
   "execution_count": null,
   "metadata": {},
   "outputs": [],
   "source": []
  },
  {
   "cell_type": "code",
   "execution_count": null,
   "metadata": {},
   "outputs": [],
   "source": []
  }
 ],
 "metadata": {
  "kernelspec": {
   "display_name": "Python 3",
   "language": "python",
   "name": "python3"
  },
  "language_info": {
   "codemirror_mode": {
    "name": "ipython",
    "version": 3
   },
   "file_extension": ".py",
   "mimetype": "text/x-python",
   "name": "python",
   "nbconvert_exporter": "python",
   "pygments_lexer": "ipython3",
   "version": "3.7.3"
  }
 },
 "nbformat": 4,
 "nbformat_minor": 2
}
